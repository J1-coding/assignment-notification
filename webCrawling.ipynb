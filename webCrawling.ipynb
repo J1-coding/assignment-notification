{
 "cells": [
  {
   "cell_type": "code",
   "execution_count": 38,
   "id": "66ad8950",
   "metadata": {},
   "outputs": [
    {
     "name": "stdout",
     "output_type": "stream",
     "text": [
      "[+] Login successful\n",
      " 456.9KB\n",
      " 308.2KB\n",
      " 542.7KB\n",
      " 292.8KB\n",
      "2022-03-17 00:00:00 ~ 2022-03-23 23:59:00\n",
      " 262.7KB\n",
      " 860.5KB\n",
      " 2022-03-22 09:00:00 ~ 2022-03-28 23:59:00, 52:34\n",
      " 524.9KB\n",
      " 2022-03-22 09:00:00 ~ 2022-03-28 23:59:00, 41:21\n",
      "2022-03-22 00:00:00 ~ 2022-03-29 23:59:00\n",
      "2022-03-22 00:00:00 ~ 2022-03-31 23:59:00\n"
     ]
    }
   ],
   "source": [
    "\n",
    "from selenium import webdriver\n",
    "from selenium.webdriver.support.ui import WebDriverWait\n",
    "\n",
    "#추가\n",
    "import time\n",
    "from bs4 import BeautifulSoup\n",
    "\n",
    "username = \"\"\n",
    "password = \"\"\n",
    "\n",
    "driver = webdriver.Chrome(\"/Users/jaewonkim/Python_projects/chromedriver\")\n",
    "\n",
    "driver.get(\"https://cyber.gachon.ac.kr/login.php\")\n",
    "#time.sleep(1)\n",
    "\n",
    "driver.find_element_by_id(\"username\").send_keys(username)\n",
    "driver.find_element_by_id(\"password\").send_keys(password)\n",
    "driver.find_element_by_class_name(\"main_login_btn\").click()\n",
    "\n",
    "# wait the ready state to be complete\n",
    "WebDriverWait(driver=driver, timeout=10).until(\n",
    "    lambda x: x.execute_script(\"return document.readyState === 'complete'\")\n",
    ")\n",
    "\n",
    "error_message = \"Incorrect username or password.\"\n",
    "errors = driver.find_elements_by_class_name(\"error_message text-danger\")\n",
    "if any(error_message in e.text for e in errors):\n",
    "    print(\"[!] Login failed\")\n",
    "else:\n",
    "    print(\"[+] Login successful\")\n",
    "\n",
    "    \n",
    "a = driver.find_elements_by_xpath('//*[@id=\"region-main\"]/div/div[1]/div[2]/ul/li[1]/div/a')\n",
    "driver.get(a[0].get_attribute('href'))\n",
    "\n",
    "\n",
    "html_request = driver.page_source\n",
    "soup = BeautifulSoup(html_request, 'html.parser')\n",
    "\n",
    "#allWeekCourse = soup.select(\"span\")\n",
    "#for i in allWeekCourse:\n",
    "#    print(i.text)\n",
    "\n",
    "soupCourse = soup.select_one(\"#region-main > div > div > div.total_sections\")\n",
    "dueDate = soupCourse.find_all(\"span\", \"displayoptions\")\n",
    "for i in dueDate:\n",
    "    \n",
    "    print(i.get_text())\n",
    "\n",
    "    \n",
    "# close the driver\n",
    "#driver.close()"
   ]
  }
 ],
 "metadata": {
  "kernelspec": {
   "display_name": "Python 3 (ipykernel)",
   "language": "python",
   "name": "python3"
  },
  "language_info": {
   "codemirror_mode": {
    "name": "ipython",
    "version": 3
   },
   "file_extension": ".py",
   "mimetype": "text/x-python",
   "name": "python",
   "nbconvert_exporter": "python",
   "pygments_lexer": "ipython3",
   "version": "3.9.7"
  }
 },
 "nbformat": 4,
 "nbformat_minor": 5
}
